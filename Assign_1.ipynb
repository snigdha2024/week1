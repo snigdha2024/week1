{
 "cells": [
  {
   "cell_type": "raw",
   "id": "d74177f3",
   "metadata": {},
   "source": [
    "1. Create one variable containing following type of data:\n",
    "(i) string\n",
    "(ii) list\n",
    "(iii) float\n",
    "(iv) tuple"
   ]
  },
  {
   "cell_type": "code",
   "execution_count": 1,
   "id": "a99787e3",
   "metadata": {},
   "outputs": [
    {
     "name": "stdout",
     "output_type": "stream",
     "text": [
      "snig\n"
     ]
    }
   ],
   "source": [
    "x = \"snig\"\n",
    "print(x)"
   ]
  },
  {
   "cell_type": "code",
   "execution_count": 3,
   "id": "d878e00a",
   "metadata": {},
   "outputs": [
    {
     "name": "stdout",
     "output_type": "stream",
     "text": [
      "['red', 'blue', 'white', 'black']\n"
     ]
    }
   ],
   "source": [
    "colours_list = ['red','blue','white','black']\n",
    "print(colours_list)"
   ]
  },
  {
   "cell_type": "code",
   "execution_count": 4,
   "id": "0fb41e6e",
   "metadata": {},
   "outputs": [
    {
     "name": "stdout",
     "output_type": "stream",
     "text": [
      "69.69\n"
     ]
    }
   ],
   "source": [
    "float_num = 69.69\n",
    "print(float_num)"
   ]
  },
  {
   "cell_type": "code",
   "execution_count": 5,
   "id": "07953a49",
   "metadata": {},
   "outputs": [
    {
     "name": "stdout",
     "output_type": "stream",
     "text": [
      "(10, 20, 30, 40)\n"
     ]
    }
   ],
   "source": [
    "tuple_num = (10, 20, 30,40)\n",
    "print(tuple_num)"
   ]
  },
  {
   "cell_type": "raw",
   "id": "36fde95f",
   "metadata": {},
   "source": [
    "2. Given are some following variables containing data:\n",
    "(i) var1 = ''\n",
    "(ii) var2 = '[DS, ML, Python]'\n",
    "(iii) var3 = ['DS','ML','Python']\n",
    "(iv) var4 = 1.\n",
    "what will be the data types of the above given variable."
   ]
  },
  {
   "cell_type": "code",
   "execution_count": 6,
   "id": "a086eb89",
   "metadata": {},
   "outputs": [
    {
     "data": {
      "text/plain": [
       "str"
      ]
     },
     "execution_count": 6,
     "metadata": {},
     "output_type": "execute_result"
    }
   ],
   "source": [
    "var1 = ''\n",
    "type(var1)"
   ]
  },
  {
   "cell_type": "code",
   "execution_count": 7,
   "id": "2b7ccc6b",
   "metadata": {},
   "outputs": [
    {
     "data": {
      "text/plain": [
       "str"
      ]
     },
     "execution_count": 7,
     "metadata": {},
     "output_type": "execute_result"
    }
   ],
   "source": [
    "var2 = '[DS, ML, Python]'\n",
    "type(var2)"
   ]
  },
  {
   "cell_type": "code",
   "execution_count": 8,
   "id": "b66f5412",
   "metadata": {},
   "outputs": [
    {
     "data": {
      "text/plain": [
       "list"
      ]
     },
     "execution_count": 8,
     "metadata": {},
     "output_type": "execute_result"
    }
   ],
   "source": [
    "var3 = ['DS','ML','Python']\n",
    "type(var3)"
   ]
  },
  {
   "cell_type": "code",
   "execution_count": 9,
   "id": "e39ae331",
   "metadata": {},
   "outputs": [
    {
     "data": {
      "text/plain": [
       "float"
      ]
     },
     "execution_count": 9,
     "metadata": {},
     "output_type": "execute_result"
    }
   ],
   "source": [
    "var4 = 1.\n",
    "type(var4)"
   ]
  },
  {
   "cell_type": "raw",
   "id": "ea187839",
   "metadata": {},
   "source": [
    "3. Explain the use of the following operators using an examples\n",
    "(i) /\n",
    "(ii) %\n",
    "(iii) //\n",
    "(iv) **"
   ]
  },
  {
   "cell_type": "code",
   "execution_count": 10,
   "id": "54b7eadb",
   "metadata": {},
   "outputs": [
    {
     "data": {
      "text/plain": [
       "109.0"
      ]
     },
     "execution_count": 10,
     "metadata": {},
     "output_type": "execute_result"
    }
   ],
   "source": [
    "# The divsion operator (/) is used to divide 2 operands\n",
    "327 / 3"
   ]
  },
  {
   "cell_type": "code",
   "execution_count": 11,
   "id": "9cb95537",
   "metadata": {},
   "outputs": [
    {
     "data": {
      "text/plain": [
       "0"
      ]
     },
     "execution_count": 11,
     "metadata": {},
     "output_type": "execute_result"
    }
   ],
   "source": [
    "# The modulo operator (%) gives the remainder when an operand divides the other operand\n",
    "36 % 6"
   ]
  },
  {
   "cell_type": "code",
   "execution_count": 12,
   "id": "cd95e55a",
   "metadata": {},
   "outputs": [
    {
     "data": {
      "text/plain": [
       "-1"
      ]
     },
     "execution_count": 12,
     "metadata": {},
     "output_type": "execute_result"
    }
   ],
   "source": [
    "# The floor division operator (//) always returns an integer value by discarding the fractional part of a number\n",
    "-5 // 10 "
   ]
  },
  {
   "cell_type": "code",
   "execution_count": 13,
   "id": "c94e563a",
   "metadata": {},
   "outputs": [
    {
     "data": {
      "text/plain": [
       "4"
      ]
     },
     "execution_count": 13,
     "metadata": {},
     "output_type": "execute_result"
    }
   ],
   "source": [
    "8 // 2"
   ]
  },
  {
   "cell_type": "code",
   "execution_count": 14,
   "id": "71bfd472",
   "metadata": {},
   "outputs": [
    {
     "data": {
      "text/plain": [
       "100"
      ]
     },
     "execution_count": 14,
     "metadata": {},
     "output_type": "execute_result"
    }
   ],
   "source": [
    "# The (**) operator raised an operand to the power of some value\n",
    "10 ** 2"
   ]
  },
  {
   "cell_type": "raw",
   "id": "f93854ed",
   "metadata": {},
   "source": [
    "4. Create a list of length 10 of your choice containing multiple types of data. Using a for loop print the element and its data type"
   ]
  },
  {
   "cell_type": "code",
   "execution_count": 15,
   "id": "8502fe70",
   "metadata": {},
   "outputs": [
    {
     "name": "stdout",
     "output_type": "stream",
     "text": [
      "The data type of 1 is: \n",
      "<class 'int'>\n",
      "The data type of 4.44 is: \n",
      "<class 'float'>\n",
      "The data type of 10 is: \n",
      "<class 'int'>\n",
      "The data type of True is: \n",
      "<class 'bool'>\n",
      "The data type of (7+4j) is: \n",
      "<class 'complex'>\n",
      "The data type of snig is: \n",
      "<class 'str'>\n",
      "The data type of data science is: \n",
      "<class 'str'>\n",
      "The data type of 8.8 is: \n",
      "<class 'float'>\n",
      "The data type of 88 is: \n",
      "<class 'int'>\n",
      "The data type of -88.0 is: \n",
      "<class 'float'>\n"
     ]
    }
   ],
   "source": [
    "l = [1, 4.44, 10, True , 7 + 4j, 'snig', 'data science', 8.8, 88, -88.0]\n",
    "for i in l :\n",
    "    print(f'The data type of {i} is: ')\n",
    "    print(type(i))"
   ]
  },
  {
   "cell_type": "raw",
   "id": "11cdb354",
   "metadata": {},
   "source": [
    "5. Using a while loop, verify if the number A is purely divisible by number B and if so the how many times it can be divisible"
   ]
  },
  {
   "cell_type": "code",
   "execution_count": 16,
   "id": "66e6e552",
   "metadata": {},
   "outputs": [
    {
     "name": "stdin",
     "output_type": "stream",
     "text": [
      "Enter the dividend:  36\n",
      "Enter the divisor:  6\n"
     ]
    },
    {
     "name": "stdout",
     "output_type": "stream",
     "text": [
      "A is divisible by B 2 times.\n"
     ]
    }
   ],
   "source": [
    "A = int(input('Enter the dividend: '))\n",
    "B = int(input('Enter the divisor: '))\n",
    "\n",
    "count = 0   \n",
    "while (A % B == 0):\n",
    "    A = A / B\n",
    "    count += 1\n",
    "    \n",
    "if count > 0:\n",
    "    print(\"A is divisible by B\", count,\"times.\")\n",
    "else:\n",
    "    print(\"A is not divisible by B\")\n"
   ]
  },
  {
   "cell_type": "raw",
   "id": "0c40b51f",
   "metadata": {},
   "source": [
    "6. Create a list containing 25 int type data. Using for loop and if-else condition print if the element is divisible by 3 or not."
   ]
  },
  {
   "cell_type": "code",
   "execution_count": 17,
   "id": "080ee2c3",
   "metadata": {},
   "outputs": [
    {
     "name": "stdout",
     "output_type": "stream",
     "text": [
      "20 is not divisible by 3\n",
      "30 is divisible by 3\n",
      "40 is not divisible by 3\n",
      "50 is not divisible by 3\n",
      "60 is divisible by 3\n",
      "70 is not divisible by 3\n",
      "80 is not divisible by 3\n",
      "90 is divisible by 3\n",
      "100 is not divisible by 3\n",
      "110 is not divisible by 3\n",
      "120 is divisible by 3\n",
      "130 is not divisible by 3\n",
      "140 is not divisible by 3\n",
      "150 is divisible by 3\n",
      "160 is not divisible by 3\n",
      "170 is not divisible by 3\n",
      "180 is divisible by 3\n",
      "190 is not divisible by 3\n",
      "300 is divisible by 3\n",
      "600 is divisible by 3\n",
      "900 is divisible by 3\n",
      "1200 is divisible by 3\n",
      "1500 is divisible by 3\n",
      "1800 is divisible by 3\n",
      "2100 is divisible by 3\n",
      "2400 is divisible by 3\n"
     ]
    }
   ],
   "source": [
    "num_list = [20, 30, 40, 50, 60, 70, 80, 90, 100, 110, 120, 130, 140, 150, 160, 170, 180, 190, 300, 600, 900, 1200, 1500, 1800, 2100, 2400]\n",
    "for i in num_list :\n",
    "    if (i % 3 == 0):\n",
    "        print(f'{i} is divisible by 3')\n",
    "    else :\n",
    "        print(f'{i} is not divisible by 3')\n",
    "        \n",
    "            "
   ]
  },
  {
   "cell_type": "raw",
   "id": "9e5ec0dc",
   "metadata": {},
   "source": [
    "7. What do you understand about mutable and immutable data types? Give examples for both showing this property."
   ]
  },
  {
   "cell_type": "raw",
   "id": "3778efe7",
   "metadata": {},
   "source": [
    "Mutability and Immutability \n",
    "An object whose internal state (data) can be changed is called a Mutable object. Similarly, an object whose internal state (data) can not be changed is called an Immutable object.\n",
    "Mutable - \n",
    "Lists,\n",
    "Sets,\n",
    "Dictionaries\n",
    "\n",
    "Immutable:\n",
    "Numbers (int, float, decimal, boolean, Strings,\n",
    "Tuples,etc.)"
   ]
  },
  {
   "cell_type": "code",
   "execution_count": 18,
   "id": "44456745",
   "metadata": {},
   "outputs": [
    {
     "name": "stdout",
     "output_type": "stream",
     "text": [
      "['spinach', 'brinjal', 'cabbage', 'cauliflower', 'brocolli']\n",
      "['nutritionist', 'brinjal', 'cabbage', 'cauliflower', 'brocolli']\n"
     ]
    }
   ],
   "source": [
    "vegetable_list = ['spinach','brinjal','cabbage','cauliflower','brocolli']  # Mutable\n",
    "print(vegetable_list)\n",
    "vegetable_list[0] = 'nutritionist'\n",
    "print(vegetable_list)\n"
   ]
  },
  {
   "cell_type": "code",
   "execution_count": 19,
   "id": "ed6df665",
   "metadata": {},
   "outputs": [
    {
     "ename": "NameError",
     "evalue": "name 'o' is not defined",
     "output_type": "error",
     "traceback": [
      "\u001b[0;31m---------------------------------------------------------------------------\u001b[0m",
      "\u001b[0;31mNameError\u001b[0m                                 Traceback (most recent call last)",
      "Cell \u001b[0;32mIn[19], line 2\u001b[0m\n\u001b[1;32m      1\u001b[0m z \u001b[38;5;241m=\u001b[39m \u001b[38;5;124m'\u001b[39m\u001b[38;5;124msnigdha\u001b[39m\u001b[38;5;124m'\u001b[39m \u001b[38;5;66;03m#immutable\u001b[39;00m\n\u001b[0;32m----> 2\u001b[0m z[\u001b[38;5;241m0\u001b[39m] \u001b[38;5;241m=\u001b[39m \u001b[43mo\u001b[49m\n",
      "\u001b[0;31mNameError\u001b[0m: name 'o' is not defined"
     ]
    }
   ],
   "source": [
    "z = 'snigdha' #immutable\n",
    "z[0] = o"
   ]
  },
  {
   "cell_type": "code",
   "execution_count": null,
   "id": "b8d78192-5c0e-4d25-a22f-43c2dc5373f7",
   "metadata": {},
   "outputs": [],
   "source": []
  }
 ],
 "metadata": {
  "kernelspec": {
   "display_name": "Python 3 (ipykernel)",
   "language": "python",
   "name": "python3"
  },
  "language_info": {
   "codemirror_mode": {
    "name": "ipython",
    "version": 3
   },
   "file_extension": ".py",
   "mimetype": "text/x-python",
   "name": "python",
   "nbconvert_exporter": "python",
   "pygments_lexer": "ipython3",
   "version": "3.10.8"
  }
 },
 "nbformat": 4,
 "nbformat_minor": 5
}
